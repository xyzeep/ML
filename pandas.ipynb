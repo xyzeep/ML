{
  "nbformat": 4,
  "nbformat_minor": 0,
  "metadata": {
    "colab": {
      "provenance": [],
      "authorship_tag": "ABX9TyMCpq52dq6lxmOhh8soxX4c"
    },
    "kernelspec": {
      "name": "python3",
      "display_name": "Python 3"
    },
    "language_info": {
      "name": "python"
    }
  },
  "cells": [
    {
      "cell_type": "markdown",
      "source": [
        "# Pandas"
      ],
      "metadata": {
        "id": "mXuUhrPGK7B1"
      }
    },
    {
      "cell_type": "code",
      "source": [
        "import pandas as pd"
      ],
      "metadata": {
        "id": "M9UFBsxULF1Q"
      },
      "execution_count": 4,
      "outputs": []
    },
    {
      "cell_type": "code",
      "source": [
        "data = {\n",
        "    \"cars\": [\"bmw\", \"honda\", \"suzuki\", \"BYD\"],\n",
        "    \"models\": [\"2007\", \"2008\", \"2022\", \"2024\"],\n",
        "    \"passenger\": [\"4\", \"5\", \"6\", \"7\"]\n",
        "}\n",
        "print(data)"
      ],
      "metadata": {
        "colab": {
          "base_uri": "https://localhost:8080/"
        },
        "id": "JHoH4m27LIoV",
        "outputId": "8b2a4851-17d3-4537-dfbd-b1e3ec237acf"
      },
      "execution_count": 9,
      "outputs": [
        {
          "output_type": "stream",
          "name": "stdout",
          "text": [
            "{'cars': ['bmw', 'honda', 'suzuki', 'BYD'], 'models': ['2007', '2008', '2022', '2024'], 'passenger': ['4', '5', '6', '7']}\n"
          ]
        }
      ]
    },
    {
      "cell_type": "code",
      "source": [
        "# Conver this dict to dataframe\n",
        "df = pd.DataFrame(data)\n",
        "print(df)"
      ],
      "metadata": {
        "colab": {
          "base_uri": "https://localhost:8080/"
        },
        "id": "Aaol3W_mMNuA",
        "outputId": "a593f344-c783-433a-e73c-a7a87a55bc41"
      },
      "execution_count": 20,
      "outputs": [
        {
          "output_type": "stream",
          "name": "stdout",
          "text": [
            "     cars models passenger\n",
            "0     bmw   2007         4\n",
            "1   honda   2008         5\n",
            "2  suzuki   2022         6\n",
            "3     BYD   2024         7\n"
          ]
        }
      ]
    },
    {
      "cell_type": "code",
      "source": [
        "# into csv\n",
        "df_to_csv = df.to_csv(\"cars.csv\")\n",
        "df = pd.read_csv(\"cars.csv\")\n",
        "print(df)"
      ],
      "metadata": {
        "colab": {
          "base_uri": "https://localhost:8080/"
        },
        "id": "MuqGpfcCMVfr",
        "outputId": "1eedeeda-0a13-40d0-ed76-58c822f90d12"
      },
      "execution_count": 14,
      "outputs": [
        {
          "output_type": "stream",
          "name": "stdout",
          "text": [
            "   Unnamed: 0    cars  models  passenger\n",
            "0           0     bmw    2007          4\n",
            "1           1   honda    2008          5\n",
            "2           2  suzuki    2022          6\n",
            "3           3     BYD    2024          7\n"
          ]
        }
      ]
    },
    {
      "cell_type": "code",
      "source": [
        "# checking the version of pandas\n",
        "pd.__version__"
      ],
      "metadata": {
        "colab": {
          "base_uri": "https://localhost:8080/",
          "height": 35
        },
        "id": "aiAEMY0hNF0e",
        "outputId": "3b72b36d-3d91-4746-e543-8ddcb0a84fd6"
      },
      "execution_count": 16,
      "outputs": [
        {
          "output_type": "execute_result",
          "data": {
            "text/plain": [
              "'2.2.2'"
            ],
            "application/vnd.google.colaboratory.intrinsic+json": {
              "type": "string"
            }
          },
          "metadata": {},
          "execution_count": 16
        }
      ]
    },
    {
      "cell_type": "code",
      "source": [
        "import pandas as pd\n",
        "a = [1, 7, 2]\n",
        "myvar = pd.Series(a)\n",
        "print(myvar)"
      ],
      "metadata": {
        "colab": {
          "base_uri": "https://localhost:8080/"
        },
        "id": "XcY04rSNOVid",
        "outputId": "d75e88b6-14a6-46b6-cee6-35f40541b7c6"
      },
      "execution_count": 17,
      "outputs": [
        {
          "output_type": "stream",
          "name": "stdout",
          "text": [
            "0    1\n",
            "1    7\n",
            "2    2\n",
            "dtype: int64\n"
          ]
        }
      ]
    },
    {
      "cell_type": "code",
      "source": [
        "# Create labels in pandas with index\n",
        "a = [1, 7, 2]\n",
        "myvar = pd.Series(a, index = [\"x\", \"y\", \"z\"])\n",
        "print(myvar)\n",
        "print(myvar[\"y\"])"
      ],
      "metadata": {
        "colab": {
          "base_uri": "https://localhost:8080/"
        },
        "id": "2blhdJnLOhsu",
        "outputId": "2c77fee5-446b-4fdd-af81-30e98fd82ad9"
      },
      "execution_count": 19,
      "outputs": [
        {
          "output_type": "stream",
          "name": "stdout",
          "text": [
            "x    1\n",
            "y    7\n",
            "z    2\n",
            "dtype: int64\n",
            "7\n"
          ]
        }
      ]
    },
    {
      "cell_type": "markdown",
      "source": [
        "##DataFrame"
      ],
      "metadata": {
        "id": "c0__CWsCP6Pe"
      }
    },
    {
      "cell_type": "code",
      "source": [
        "# Create a dataframe from two series\n",
        "import pandas as pd\n",
        "data = {\n",
        "    \"calories\": [420, 380, 390],\n",
        "    \"duration\": [50, 40, 45]\n",
        "}\n",
        "df = pd.DataFrame(data)\n",
        "print(df)\n"
      ],
      "metadata": {
        "colab": {
          "base_uri": "https://localhost:8080/"
        },
        "id": "9n5MxSYwQBrl",
        "outputId": "cf2b02b4-dd0f-4f77-f428-c69b5647d19b"
      },
      "execution_count": 31,
      "outputs": [
        {
          "output_type": "stream",
          "name": "stdout",
          "text": [
            "   calories  duration\n",
            "0       420        50\n",
            "1       380        40\n",
            "2       390        45\n"
          ]
        }
      ]
    },
    {
      "cell_type": "code",
      "source": [
        "# locate ROW using loc function\n",
        "print(df.loc[0])"
      ],
      "metadata": {
        "colab": {
          "base_uri": "https://localhost:8080/"
        },
        "id": "-Oax4MORQNWb",
        "outputId": "4d44c8a1-3c09-4e6e-dfff-9ce0ce69d282"
      },
      "execution_count": 22,
      "outputs": [
        {
          "output_type": "stream",
          "name": "stdout",
          "text": [
            "calories    420\n",
            "duration     50\n",
            "Name: 0, dtype: int64\n"
          ]
        }
      ]
    },
    {
      "cell_type": "code",
      "source": [
        "# return 0 and 1\n",
        "print(df.loc[[0, 1]])"
      ],
      "metadata": {
        "colab": {
          "base_uri": "https://localhost:8080/"
        },
        "id": "DftZnq1DRaFg",
        "outputId": "34933aa2-bb93-4e21-ab2d-79f93dee2e40"
      },
      "execution_count": 23,
      "outputs": [
        {
          "output_type": "stream",
          "name": "stdout",
          "text": [
            "   calories  duration\n",
            "0       420        50\n",
            "1       380        40\n"
          ]
        }
      ]
    },
    {
      "cell_type": "code",
      "source": [
        "# indexing with day1, day2, day3\n",
        "df = pd.DataFrame(data, index = [\"day1\", \"day2\", \"day3\"])\n",
        "print(df.loc[\"day1\"])\n",
        "print(df.loc[\"day2\"])\n",
        "print(df.loc[\"day3\"])"
      ],
      "metadata": {
        "colab": {
          "base_uri": "https://localhost:8080/"
        },
        "id": "r336o6TISVDB",
        "outputId": "c7e09f12-9c2d-487a-a537-ec2dbd0d7977"
      },
      "execution_count": 34,
      "outputs": [
        {
          "output_type": "stream",
          "name": "stdout",
          "text": [
            "calories    420\n",
            "duration     50\n",
            "Name: day1, dtype: int64\n",
            "calories    380\n",
            "duration     40\n",
            "Name: day2, dtype: int64\n",
            "calories    390\n",
            "duration     45\n",
            "Name: day3, dtype: int64\n"
          ]
        }
      ]
    },
    {
      "cell_type": "markdown",
      "source": [
        "## Data Cleaning with pandas\n",
        "Bad data can be\n",
        "- empty cells\n",
        "- data in wrong format\n",
        "- wrong data\n",
        "- duplicate data"
      ],
      "metadata": {
        "id": "ukET0ww4UZ1r"
      }
    },
    {
      "cell_type": "code",
      "source": [
        "import pandas as pd\n",
        "df = pd.read_csv(\"pandas_dataset.csv\")\n",
        "print(df)\n"
      ],
      "metadata": {
        "colab": {
          "base_uri": "https://localhost:8080/"
        },
        "id": "d-mDULAeaEtC",
        "outputId": "26e700c0-1ac0-48f5-a7db-4be5ea51551b"
      },
      "execution_count": 37,
      "outputs": [
        {
          "output_type": "stream",
          "name": "stdout",
          "text": [
            "    Duration         Date  Pulse  Maxpulse  Calories\n",
            "0         60  2020/12/01'    110       130     409.1\n",
            "1         60  2020/12/02'    117       145     479.0\n",
            "2         60  2020/12/03'    103       135     340.0\n",
            "3         45  2020/12/04'    109       175     282.4\n",
            "4         45  2020/12/05'    117       148     406.0\n",
            "5         60  2020/12/06'    102       127     300.0\n",
            "6         60  2020/12/07'    110       136     374.0\n",
            "7        450  2020/12/08'    104       134     253.3\n",
            "8         30  2020/12/09'    109       133     195.1\n",
            "9         60  2020/12/10'     98       124     269.0\n",
            "10        60  2020/12/11'    103       147     329.3\n",
            "11        60  2020/12/12'    100       120     250.7\n",
            "12        60  2020/12/12'    100       120     250.7\n",
            "13        60  2020/12/13'    106       128     345.3\n",
            "14        60  2020/12/14'    104       132     379.3\n",
            "15        60  2020/12/15'     98       123     275.0\n",
            "16        60  2020/12/16'     98       120     215.2\n",
            "17        60  2020/12/17'    100       120     300.0\n",
            "18        45  2020/12/18'     90       112       NaN\n",
            "19        60  2020/12/19'    103       123     323.0\n",
            "20        45  2020/12/20'     97       125     243.0\n",
            "21        60  2020/12/21'    108       131     364.2\n",
            "22        45          NaN    100       119     282.0\n",
            "23        60  2020/12/23'    130       101     300.0\n",
            "24        45  2020/12/24'    105       132     246.0\n",
            "25        60  2020/12/25'    102       126     334.5\n",
            "26        60   12/26/2020    100       120     250.0\n",
            "27        60  2020/12/27'     92       118     241.0\n",
            "28        60  2020/12/28'    103       132       NaN\n",
            "29        60  2020/12/29'    100       132     280.0\n",
            "30        60  2020/12/30'    102       129     380.3\n",
            "31        60  2020/12/31'     92       115     243.0\n"
          ]
        }
      ]
    },
    {
      "cell_type": "code",
      "source": [
        "print(df.head(10))"
      ],
      "metadata": {
        "colab": {
          "base_uri": "https://localhost:8080/"
        },
        "id": "xy3zTkTYaNDU",
        "outputId": "fccacb7e-ccb3-435a-d9b1-b48129475802"
      },
      "execution_count": 39,
      "outputs": [
        {
          "output_type": "stream",
          "name": "stdout",
          "text": [
            "   Duration         Date  Pulse  Maxpulse  Calories\n",
            "0        60  2020/12/01'    110       130     409.1\n",
            "1        60  2020/12/02'    117       145     479.0\n",
            "2        60  2020/12/03'    103       135     340.0\n",
            "3        45  2020/12/04'    109       175     282.4\n",
            "4        45  2020/12/05'    117       148     406.0\n",
            "5        60  2020/12/06'    102       127     300.0\n",
            "6        60  2020/12/07'    110       136     374.0\n",
            "7       450  2020/12/08'    104       134     253.3\n",
            "8        30  2020/12/09'    109       133     195.1\n",
            "9        60  2020/12/10'     98       124     269.0\n"
          ]
        }
      ]
    },
    {
      "cell_type": "code",
      "source": [
        "print(df.tail(5))"
      ],
      "metadata": {
        "colab": {
          "base_uri": "https://localhost:8080/"
        },
        "id": "DvOnMXHpaiy2",
        "outputId": "5a92a1e7-fccb-4dd6-a1fd-1ecdb973656c"
      },
      "execution_count": 40,
      "outputs": [
        {
          "output_type": "stream",
          "name": "stdout",
          "text": [
            "    Duration         Date  Pulse  Maxpulse  Calories\n",
            "27        60  2020/12/27'     92       118     241.0\n",
            "28        60  2020/12/28'    103       132       NaN\n",
            "29        60  2020/12/29'    100       132     280.0\n",
            "30        60  2020/12/30'    102       129     380.3\n",
            "31        60  2020/12/31'     92       115     243.0\n"
          ]
        }
      ]
    },
    {
      "cell_type": "markdown",
      "source": [
        "### Problems in our data set\n",
        "- data contains some empty cells\n",
        "- data fomatting has issues\n",
        "- row 7 has wrong data\n",
        "- row 11 and 12 have the same data"
      ],
      "metadata": {
        "id": "Vcbg4xTbaur4"
      }
    },
    {
      "cell_type": "code",
      "source": [],
      "metadata": {
        "id": "JfumdaV_bDt9"
      },
      "execution_count": null,
      "outputs": []
    }
  ]
}